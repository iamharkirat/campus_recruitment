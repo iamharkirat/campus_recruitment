{
 "cells": [
  {
   "cell_type": "code",
   "execution_count": 1,
   "metadata": {},
   "outputs": [],
   "source": [
    "import os\n",
    "import pandas as pd"
   ]
  },
  {
   "cell_type": "code",
   "execution_count": 2,
   "metadata": {},
   "outputs": [
    {
     "data": {
      "text/plain": [
       "'/Users/harkiratchahal/Desktop/Coding/Tutorials/mlops_2/research'"
      ]
     },
     "execution_count": 2,
     "metadata": {},
     "output_type": "execute_result"
    }
   ],
   "source": [
    "%pwd"
   ]
  },
  {
   "cell_type": "code",
   "execution_count": 3,
   "metadata": {},
   "outputs": [],
   "source": [
    "os.chdir('../')"
   ]
  },
  {
   "cell_type": "code",
   "execution_count": 4,
   "metadata": {},
   "outputs": [],
   "source": [
    "from dataclasses import dataclass\n",
    "from pathlib import Path"
   ]
  },
  {
   "cell_type": "code",
   "execution_count": 5,
   "metadata": {},
   "outputs": [],
   "source": [
    "os.environ['MLFLOW_TRACKING_URI']='https://dagshub.com/iamharkirat/campus_recruitment.mlflow' \n",
    "os.environ['MLFLOW_TRACKING_USERNAME']='iamharkirat' \n",
    "os.environ['MLFLOW_TRACKING_PASSWORD']='3674ba2c6ee8b99eefb716575a7781d71ccbe637' "
   ]
  },
  {
   "cell_type": "code",
   "execution_count": 13,
   "metadata": {},
   "outputs": [],
   "source": [
    "@dataclass(frozen=True)\n",
    "class ModelEvaluationConfig:\n",
    "    root_dir: Path\n",
    "    test_data_path: Path\n",
    "    model_path: Path\n",
    "    all_params: dict\n",
    "    metric_file_name: Path\n",
    "    target_column: str\n",
    "    mlflow_uri: str\n"
   ]
  },
  {
   "cell_type": "code",
   "execution_count": 14,
   "metadata": {},
   "outputs": [],
   "source": [
    "from mlProject.constants import *\n",
    "from mlProject.utils.common import read_yaml, create_directories, save_json"
   ]
  },
  {
   "cell_type": "code",
   "execution_count": 15,
   "metadata": {},
   "outputs": [],
   "source": [
    "class ConfigurationManager:\n",
    "    def __init__(\n",
    "        self,\n",
    "        config_filepath = CONFIG_FILE_PATH,\n",
    "        params_filepath = PARAMS_FILE_PATH,\n",
    "        schema_filepath = SCHEMA_FILE_PATH):\n",
    "\n",
    "        self.config = read_yaml(config_filepath)\n",
    "        self.params = read_yaml(params_filepath)\n",
    "        self.schema = read_yaml(schema_filepath)\n",
    "\n",
    "        create_directories([self.config.artifacts_root])\n",
    "\n",
    "    \n",
    "    def get_model_evaluation_config(self) -> ModelEvaluationConfig:\n",
    "        config = self.config.model_evaluation\n",
    "        params = self.params.RandomForestClassifier\n",
    "        schema =  self.schema.TARGET_COLUMN\n",
    "\n",
    "        create_directories([config.root_dir])\n",
    "\n",
    "        model_evaluation_config = ModelEvaluationConfig(\n",
    "            root_dir=config.root_dir,\n",
    "            test_data_path=config.test_data_path,\n",
    "            model_path = config.model_path,\n",
    "            all_params=params,\n",
    "            metric_file_name = config.metric_file_name,\n",
    "            target_column = schema.name,\n",
    "            mlflow_uri=\"https://dagshub.com/iamharkirat/campus_recruitment.mlflow\",\n",
    "        )\n",
    "\n",
    "        return model_evaluation_config\n"
   ]
  },
  {
   "cell_type": "code",
   "execution_count": 23,
   "metadata": {},
   "outputs": [],
   "source": [
    "import os\n",
    "import pandas as pd\n",
    "from sklearn.metrics import mean_squared_error, mean_absolute_error, r2_score, accuracy_score\n",
    "from urllib.parse import urlparse\n",
    "import mlflow\n",
    "import mlflow.sklearn\n",
    "import numpy as np\n",
    "from mlProject import logger\n",
    "import joblib"
   ]
  },
  {
   "cell_type": "code",
   "execution_count": 24,
   "metadata": {},
   "outputs": [],
   "source": [
    "class ModelEvaluation:\n",
    "    def __init__(self, config):\n",
    "        self.config = config\n",
    "\n",
    "    def eval_metrics(self, actual, pred):\n",
    "        rmse = np.sqrt(mean_squared_error(actual, pred))\n",
    "        mae = mean_absolute_error(actual, pred)\n",
    "        r2 = r2_score(actual, pred)\n",
    "        accuracy = accuracy_score(actual, pred)\n",
    "        logger.info(f\"Evaluation Metrics - RMSE: {rmse}, MAE: {mae}, R2 Score: {r2}, Accuracy: {accuracy}\")\n",
    "        return rmse, mae, r2, accuracy\n",
    "\n",
    "    def save_metrics_locally(self, scores):\n",
    "        # Ensure you have a save_json function or use an appropriate method to save the scores as JSON.\n",
    "        save_json(path=Path(self.config.metric_file_name), data=scores)\n",
    "\n",
    "    def log_into_mlflow(self):\n",
    "        logger.info(\"Model evaluation started.\")\n",
    "        logger.info(\"Starting MLflow logging...\")\n",
    "\n",
    "        # Load test data and model\n",
    "        test_data = pd.read_csv(self.config.test_data_path)\n",
    "        model = joblib.load(self.config.model_path)\n",
    "\n",
    "        # Split data into features and target\n",
    "        test_x = test_data.drop([self.config.target_column], axis=1)\n",
    "        test_y = test_data[[self.config.target_column]]\n",
    "\n",
    "        mlflow.set_registry_uri(self.config.mlflow_uri)\n",
    "        tracking_url_type_store = urlparse(mlflow.get_tracking_uri()).scheme\n",
    "\n",
    "        with mlflow.start_run():\n",
    "            predicted_qualities = model.predict(test_x)\n",
    "\n",
    "            # Evaluate metrics\n",
    "            rmse, mae, r2, accuracy = self.eval_metrics(test_y, predicted_qualities)\n",
    "\n",
    "            # Save metrics locally and log parameters and metrics to MLflow\n",
    "            scores = {\"rmse\": rmse, \"mae\": mae, \"r2\": r2, \"accuracy\": accuracy}\n",
    "            self.save_metrics_locally(scores)\n",
    "            logger.info(\"Metrics saved locally.\")\n",
    "            \n",
    "            logger.info(\"Logging parameters and metrics to MLflow.\")\n",
    "            mlflow.log_params(self.config.all_params)\n",
    "            mlflow.log_metrics(scores)\n",
    "\n",
    "            # Log model to MLflow\n",
    "            logger.info(\"Logging model to MLflow.\")\n",
    "            if tracking_url_type_store != \"file\":\n",
    "                mlflow.sklearn.log_model(model, \"model\", registered_model_name=\"RandomForestClassifier\")\n",
    "                logger.info(\"Model registered in MLflow.\")\n",
    "            else:\n",
    "                mlflow.sklearn.log_model(model, \"model\")\n",
    "                logger.info(\"Model logged to MLflow.\")\n",
    "        \n",
    "        logger.info(\"Model evaluation completed.\")"
   ]
  },
  {
   "cell_type": "code",
   "execution_count": 25,
   "metadata": {},
   "outputs": [
    {
     "name": "stdout",
     "output_type": "stream",
     "text": [
      "[2023-10-03 17:23:03,390: INFO: common: yaml file: config/config.yaml loaded successfully]\n",
      "[2023-10-03 17:23:03,393: INFO: common: yaml file: params.yaml loaded successfully]\n",
      "[2023-10-03 17:23:03,395: INFO: common: yaml file: schema.yaml loaded successfully]\n",
      "[2023-10-03 17:23:03,395: INFO: common: created directory at: artifacts]\n",
      "[2023-10-03 17:23:03,396: INFO: common: created directory at: artifacts/model_evaluation]\n",
      "[2023-10-03 17:23:03,396: INFO: 178573336: Model evaluation started.]\n",
      "[2023-10-03 17:23:03,397: INFO: 178573336: Starting MLflow logging...]\n",
      "[2023-10-03 17:23:08,972: INFO: 178573336: Evaluation Metrics - RMSE: 0.0, MAE: 0.0, R2 Score: 1.0, Accuracy: 1.0]\n",
      "[2023-10-03 17:23:08,973: INFO: common: json file saved at: artifacts/model_evaluation/metrics.json]\n",
      "[2023-10-03 17:23:08,974: INFO: 178573336: Metrics saved locally.]\n",
      "[2023-10-03 17:23:08,974: INFO: 178573336: Logging parameters and metrics to MLflow.]\n",
      "[2023-10-03 17:23:10,393: INFO: 178573336: Logging model to MLflow.]\n"
     ]
    },
    {
     "name": "stderr",
     "output_type": "stream",
     "text": [
      "Registered model 'RandomForestClassifier' already exists. Creating a new version of this model...\n",
      "2023/10/03 17:23:17 INFO mlflow.tracking._model_registry.client: Waiting up to 300 seconds for model version to finish creation.                     Model name: RandomForestClassifier, version 2\n"
     ]
    },
    {
     "name": "stdout",
     "output_type": "stream",
     "text": [
      "[2023-10-03 17:23:17,141: INFO: 178573336: Model registered in MLflow.]\n",
      "[2023-10-03 17:23:17,309: INFO: 178573336: Model evaluation completed.]\n"
     ]
    },
    {
     "name": "stderr",
     "output_type": "stream",
     "text": [
      "Created version '2' of model 'RandomForestClassifier'.\n"
     ]
    }
   ],
   "source": [
    "try:\n",
    "    config = ConfigurationManager()\n",
    "    model_evaluation_config = config.get_model_evaluation_config()\n",
    "    model_evaluation_config = ModelEvaluation(config=model_evaluation_config)\n",
    "    model_evaluation_config.log_into_mlflow()\n",
    "except Exception as e:\n",
    "    raise e\n"
   ]
  },
  {
   "cell_type": "code",
   "execution_count": null,
   "metadata": {},
   "outputs": [],
   "source": []
  }
 ],
 "metadata": {
  "kernelspec": {
   "display_name": "Python 3.11.5 ('mlops')",
   "language": "python",
   "name": "python3"
  },
  "language_info": {
   "codemirror_mode": {
    "name": "ipython",
    "version": 3
   },
   "file_extension": ".py",
   "mimetype": "text/x-python",
   "name": "python",
   "nbconvert_exporter": "python",
   "pygments_lexer": "ipython3",
   "version": "3.11.5"
  },
  "orig_nbformat": 4,
  "vscode": {
   "interpreter": {
    "hash": "cef9e7b2bdb756505b6584b8cd6e67f58b1526fe5bee48dc10ccd8818f1be2db"
   }
  }
 },
 "nbformat": 4,
 "nbformat_minor": 2
}
