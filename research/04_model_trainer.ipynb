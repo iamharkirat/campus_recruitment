{
 "cells": [
  {
   "cell_type": "code",
   "execution_count": 1,
   "metadata": {},
   "outputs": [],
   "source": [
    "import os\n",
    "import pandas as pd"
   ]
  },
  {
   "cell_type": "code",
   "execution_count": 2,
   "metadata": {},
   "outputs": [
    {
     "data": {
      "text/plain": [
       "'/Users/harkiratchahal/Desktop/Coding/Tutorials/mlops_2/research'"
      ]
     },
     "execution_count": 2,
     "metadata": {},
     "output_type": "execute_result"
    }
   ],
   "source": [
    "%pwd"
   ]
  },
  {
   "cell_type": "code",
   "execution_count": 3,
   "metadata": {},
   "outputs": [],
   "source": [
    "os.chdir('../')"
   ]
  },
  {
   "cell_type": "code",
   "execution_count": 11,
   "metadata": {},
   "outputs": [],
   "source": [
    "from dataclasses import dataclass\n",
    "from pathlib import Path"
   ]
  },
  {
   "cell_type": "code",
   "execution_count": 18,
   "metadata": {},
   "outputs": [],
   "source": [
    "@dataclass(frozen=True)\n",
    "class ModelTrainerConfig:\n",
    "    root_dir: Path\n",
    "    train_data_path: Path\n",
    "    test_data_path: Path\n",
    "    model_name: str\n",
    "    n_estimators: int\n",
    "    min_samples_split: int\n",
    "    min_samples_leaf: int\n",
    "    max_features: str\n",
    "    max_depth: int\n",
    "    target_column: str"
   ]
  },
  {
   "cell_type": "code",
   "execution_count": 19,
   "metadata": {},
   "outputs": [],
   "source": [
    "from mlProject.constants import *\n",
    "from mlProject.utils.common import read_yaml, create_directories"
   ]
  },
  {
   "cell_type": "code",
   "execution_count": 20,
   "metadata": {},
   "outputs": [],
   "source": [
    "class ConfigurationManager:\n",
    "    def __init__(\n",
    "        self,\n",
    "        config_filepath = CONFIG_FILE_PATH,\n",
    "        params_filepath = PARAMS_FILE_PATH,\n",
    "        schema_filepath = SCHEMA_FILE_PATH):\n",
    "\n",
    "        self.config = read_yaml(config_filepath)\n",
    "        self.params = read_yaml(params_filepath)\n",
    "        self.schema = read_yaml(schema_filepath)\n",
    "\n",
    "        create_directories([self.config.artifacts_root])\n",
    "\n",
    "\n",
    "    def get_model_trainer_config(self) -> ModelTrainerConfig:\n",
    "        config = self.config.model_trainer\n",
    "        params = self.params.RandomForestClassifier\n",
    "        schema =  self.schema.TARGET_COLUMN\n",
    "\n",
    "        create_directories([config.root_dir])\n",
    "\n",
    "        model_trainer_config = ModelTrainerConfig(\n",
    "            root_dir = config.root_dir,\n",
    "            train_data_path = config.train_data_path,\n",
    "            test_data_path = config.test_data_path,\n",
    "            model_name = config.model_name,\n",
    "            n_estimators = params.n_estimators,\n",
    "            min_samples_split = params.min_samples_split,\n",
    "            min_samples_leaf = params.min_samples_leaf,\n",
    "            max_features = params.max_features,\n",
    "            max_depth = params.max_depth,\n",
    "            target_column = schema.name\n",
    "            \n",
    "        )\n",
    "\n",
    "        return model_trainer_config"
   ]
  },
  {
   "cell_type": "code",
   "execution_count": 21,
   "metadata": {},
   "outputs": [],
   "source": [
    "import os\n",
    "from mlProject import logger\n",
    "from sklearn.ensemble import RandomForestClassifier\n",
    "import pandas as pd\n",
    "import joblib"
   ]
  },
  {
   "cell_type": "code",
   "execution_count": 22,
   "metadata": {},
   "outputs": [],
   "source": [
    "class ModelTrainer:\n",
    "    def __init__(self, config: ModelTrainerConfig):\n",
    "        self.config = config\n",
    "\n",
    "    def train(self):\n",
    "        try:\n",
    "            train_data = pd.read_csv(self.config.train_data_path)\n",
    "            test_data = pd.read_csv(self.config.test_data_path)\n",
    "        except FileNotFoundError as e:\n",
    "            logger.error(f\"File not found: {e}\")\n",
    "            raise\n",
    "        except pd.errors.EmptyDataError as e:\n",
    "            logger.error(f\"No data: {e}\")\n",
    "            raise\n",
    "        \n",
    "        train_x = train_data.drop([self.config.target_column], axis=1)\n",
    "        test_x = test_data.drop([self.config.target_column], axis=1)\n",
    "        train_y = train_data[[self.config.target_column]].values.ravel()\n",
    "        test_y = test_data[[self.config.target_column]].values.ravel()\n",
    "\n",
    "        model = RandomForestClassifier(\n",
    "            n_estimators=self.config.n_estimators,\n",
    "            min_samples_split=self.config.min_samples_split,\n",
    "            min_samples_leaf=self.config.min_samples_leaf,\n",
    "            max_features=self.config.max_features,\n",
    "            max_depth=self.config.max_depth,\n",
    "            random_state=42\n",
    "        )\n",
    "\n",
    "        try:\n",
    "            model.fit(train_x, train_y)\n",
    "        except Exception as e:\n",
    "            logger.error(f\"Failed to train the model: {e}\")\n",
    "            raise\n",
    "\n",
    "        try:\n",
    "            joblib.dump(model, os.path.join(self.config.root_dir, self.config.model_name))\n",
    "            logger.info(\"Model saved successfully!\")\n",
    "        except Exception as e:\n",
    "            logger.error(f\"Failed to save the model: {e}\")\n",
    "            raise"
   ]
  },
  {
   "cell_type": "code",
   "execution_count": 23,
   "metadata": {},
   "outputs": [
    {
     "name": "stdout",
     "output_type": "stream",
     "text": [
      "[2023-10-03 17:02:54,317: INFO: common: yaml file: config/config.yaml loaded successfully]\n",
      "[2023-10-03 17:02:54,321: INFO: common: yaml file: params.yaml loaded successfully]\n",
      "[2023-10-03 17:02:54,323: INFO: common: yaml file: schema.yaml loaded successfully]\n",
      "[2023-10-03 17:02:54,325: INFO: common: created directory at: artifacts]\n",
      "[2023-10-03 17:02:54,326: INFO: common: created directory at: artifacts/model_trainer]\n",
      "[2023-10-03 17:02:55,249: INFO: 2834237003: Model saved successfully!]\n"
     ]
    }
   ],
   "source": [
    "try:\n",
    "    config = ConfigurationManager()\n",
    "    model_trainer_config = config.get_model_trainer_config()\n",
    "    model_trainer_config = ModelTrainer(config=model_trainer_config)\n",
    "    model_trainer_config.train()\n",
    "except Exception as e:\n",
    "    raise e"
   ]
  },
  {
   "cell_type": "code",
   "execution_count": null,
   "metadata": {},
   "outputs": [],
   "source": []
  }
 ],
 "metadata": {
  "kernelspec": {
   "display_name": "Python 3.11.5 ('mlops')",
   "language": "python",
   "name": "python3"
  },
  "language_info": {
   "codemirror_mode": {
    "name": "ipython",
    "version": 3
   },
   "file_extension": ".py",
   "mimetype": "text/x-python",
   "name": "python",
   "nbconvert_exporter": "python",
   "pygments_lexer": "ipython3",
   "version": "3.11.5"
  },
  "orig_nbformat": 4,
  "vscode": {
   "interpreter": {
    "hash": "cef9e7b2bdb756505b6584b8cd6e67f58b1526fe5bee48dc10ccd8818f1be2db"
   }
  }
 },
 "nbformat": 4,
 "nbformat_minor": 2
}
